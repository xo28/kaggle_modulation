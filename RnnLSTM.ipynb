{
 "cells": [
  {
   "cell_type": "code",
   "execution_count": null,
   "metadata": {
    "_cell_guid": "b1076dfc-b9ad-4769-8c92-a6c4dae69d19",
    "_uuid": "8f2839f25d086af736a60e9eeb907d3b93b6e0e5"
   },
   "outputs": [],
   "source": [
    "import numpy as np\n",
    "import torch\n",
    "import torch.nn as nn\n",
    "import h5py\n",
    "import matplotlib.pyplot as plt\n",
    "import pandas as pd"
   ]
  },
  {
   "cell_type": "code",
   "execution_count": null,
   "metadata": {
    "_cell_guid": "79c7e3d0-c299-4dcb-8224-4455121ee9b0",
    "_uuid": "d629ff2d2480ee46fbb7e2d37f6b5fab8052498a"
   },
   "outputs": [],
   "source": [
    "'''loading data'''\n",
    "f = h5py.File(\"../modulation-prediction/data.hdf5\", 'r')\n",
    "X_train = torch.from_numpy(np.array(f['train']))\n",
    "X_test = torch.from_numpy(np.array(f['test']))\n",
    "Y_train = pd.read_csv('../modulation-prediction/train_labels.csv').to_numpy()"
   ]
  },
  {
   "cell_type": "code",
   "execution_count": null,
   "metadata": {},
   "outputs": [],
   "source": [
    "class_index = {\n",
    " 'FM': 0,\n",
    " 'OQPSK':1,\n",
    " 'BPSK':2,\n",
    " '8PSK':3,\n",
    " 'AM-SSB-SC':4,\n",
    " '4ASK':5,\n",
    " '16PSK':6,\n",
    " 'AM-DSB-SC':7, \n",
    " 'QPSK': 8, \n",
    " 'OOK':9\n",
    "}\n",
    "\n",
    "classnum = 10\n",
    "def classToIndex(catg):\n",
    "    return class_index[catg]\n",
    "\n",
    "# turn a class into a <1 x 10> Tensor\n",
    "def classToTensor(catg):\n",
    "    tensor = torch.zeros(1, classnum)\n",
    "    tensor[0][classToIndex(catg)] = 1\n",
    "    return tensor\n",
    "\n",
    "# Turn dataset into a <lines x 1 x classnum>,\n",
    "# or an array of one-hot letter vectors\n",
    "def setToTensor(dataset):\n",
    "    tensor = torch.zeros(dataset.shape[0], 1, classnum)\n",
    "    for li, catg in enumerate(dataset[:,1]):\n",
    "        tensor[li][0][classToIndex(catg)] = 1\n",
    "    return tensor\n",
    "\n",
    "#direct mapping, not one-hot\n",
    "def setToNum(dataset):\n",
    "    tensor = torch.zeros(dataset.shape[0])\n",
    "    for li, catg in enumerate(dataset[:,1]):\n",
    "        tensor[li] = classToIndex(catg)\n",
    "    return tensor"
   ]
  },
  {
   "cell_type": "code",
   "execution_count": null,
   "metadata": {},
   "outputs": [],
   "source": [
    "# Hyper-parameters\n",
    "sequence_length = 1024\n",
    "input_size = 2\n",
    "hidden_size = 4\n",
    "num_layers = 1\n",
    "num_classes = 10\n",
    "batch_size = 32\n",
    "num_epochs = 2\n",
    "learning_rate = 0.01\n",
    "\n",
    "# Recurrent neural network (many-to-one)\n",
    "class RNN(nn.Module):\n",
    "    def __init__(self, input_size, hidden_size, num_layers, num_classes):\n",
    "        super(RNN, self).__init__()\n",
    "        self.hidden_size = hidden_size\n",
    "        self.num_layers = num_layers\n",
    "        self.lstm = nn.LSTM(input_size, hidden_size, num_layers, batch_first=True)\n",
    "        self.fc = nn.Linear(hidden_size, num_classes)\n",
    "    \n",
    "    def forward(self, x):\n",
    "        # Set initial hidden and cell states \n",
    "        h0 = torch.zeros(self.num_layers, x.size(0), self.hidden_size)\n",
    "        c0 = torch.zeros(self.num_layers, x.size(0), self.hidden_size)\n",
    "        \n",
    "        # Forward propagate LSTM\n",
    "        out, _ = self.lstm(x, (h0, c0))  # out: tensor of shape (batch_size, seq_length, hidden_size)\n",
    "        \n",
    "        # Decode the hidden state of the last time step\n",
    "        out = self.fc(out[:, -1, :])\n",
    "        return out"
   ]
  },
  {
   "cell_type": "code",
   "execution_count": null,
   "metadata": {},
   "outputs": [],
   "source": [
    "model = RNN(input_size, hidden_size, num_layers, num_classes)"
   ]
  },
  {
   "cell_type": "code",
   "execution_count": null,
   "metadata": {},
   "outputs": [],
   "source": [
    "# Loss and optimizer\n",
    "criterion = nn.CrossEntropyLoss()\n",
    "optimizer = torch.optim.Adam(model.parameters(), lr=learning_rate)"
   ]
  },
  {
   "cell_type": "code",
   "execution_count": null,
   "metadata": {},
   "outputs": [],
   "source": [
    "# Train the model\n",
    "total_step = X_train.shape[0]\n",
    "for epoch in range(num_epochs):\n",
    "        modulation = X_train\n",
    "        labels = setToNum(Y_train)\n",
    "#         print(labels.shape)\n",
    "        \n",
    "        # Forward pass\n",
    "        outputs = model(modulation)\n",
    "        print(outputs.shape)\n",
    "#         _, trainpredicted = torch.max(outputs.data, 1)\n",
    "        loss = criterion(outputs, labels)\n",
    "        \n",
    "        # Backward and optimize\n",
    "        optimizer.zero_grad()\n",
    "        loss.backward()\n",
    "        optimizer.step()\n",
    "        \n",
    "        if (i+1) % 100 == 0:\n",
    "            print ('Epoch [{}/{}], Step [{}/{}], Loss: {:.4f}' \n",
    "                   .format(epoch+1, num_epochs, i+1, total_step, loss.item()))\n",
    "        "
   ]
  },
  {
   "cell_type": "code",
   "execution_count": null,
   "metadata": {},
   "outputs": [],
   "source": [
    "# Test the model\n",
    "model.eval()\n",
    "with torch.no_grad():\n",
    "    correct = 0\n",
    "    total = 30000\n",
    "    \n",
    "    trainoutput = model(X_train)\n",
    "    _, trainpredicted = torch.max(trainoutputs.data, 1)\n",
    "    traincorrect += (trainpredicted == labels).sum().item()\n",
    "    \n",
    "    outputs = model(X_test)\n",
    "    _, predicted = torch.max(outputs.data, 1)\n",
    "    prediction = pd.DataFrame(predicted, header = True, index = False)\n",
    "    data1.to_csv('../output/test_prediction.csv')\n",
    "        \n",
    "    print('Train Accuracy of the model on the 30000 train modulations: {} %'.format(100 * traincorrect / total)) "
   ]
  }
 ],
 "metadata": {
  "kernelspec": {
   "display_name": "Python 3",
   "language": "python",
   "name": "python3"
  },
  "language_info": {
   "codemirror_mode": {
    "name": "ipython",
    "version": 3
   },
   "file_extension": ".py",
   "mimetype": "text/x-python",
   "name": "python",
   "nbconvert_exporter": "python",
   "pygments_lexer": "ipython3",
   "version": "3.6.5"
  }
 },
 "nbformat": 4,
 "nbformat_minor": 4
}
