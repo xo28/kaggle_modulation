{
 "cells": [
  {
   "cell_type": "code",
   "execution_count": null,
   "metadata": {
    "_cell_guid": "b1076dfc-b9ad-4769-8c92-a6c4dae69d19",
    "_uuid": "8f2839f25d086af736a60e9eeb907d3b93b6e0e5"
   },
   "outputs": [],
   "source": [
    "import os,random\n",
    "import keras\n",
    "os.environ[\"KERAS_BACKEND\"] = \"tensorflow\"\n",
    "import numpy as np\n",
    "from keras.utils import np_utils\n",
    "import keras.models as models\n",
    "from keras.layers.core import Reshape,Dense,Dropout,Activation,Flatten\n",
    "from keras.layers.convolutional import Conv2D, MaxPooling2D, ZeroPadding2D\n",
    "from keras.regularizers import *\n",
    "from keras.optimizers import adam\n",
    "from keras.optimizers import adagrad\n",
    "import matplotlib\n",
    "import keras.backend.tensorflow_backend as tfback\n",
    "import h5py\n",
    "import pandas as pd\n",
    "from keras.utils import to_categorical\n",
    "from keras import backend as K\n",
    "import tensorflow as tf"
   ]
  },
  {
   "cell_type": "code",
   "execution_count": null,
   "metadata": {
    "_cell_guid": "79c7e3d0-c299-4dcb-8224-4455121ee9b0",
    "_uuid": "d629ff2d2480ee46fbb7e2d37f6b5fab8052498a"
   },
   "outputs": [],
   "source": [
    "#data processing\n",
    "#loading data\n",
    "f = h5py.File(\"../modulation-prediction/data.hdf5\", 'r')\n",
    "X_train = np.array(f['train'])\n",
    "X_train = X_train.reshape([X_train.shape[0], 2, -1])\n",
    "\n",
    "X_test = np.array(f['test'])\n",
    "X_test = X_test.reshape(X_test.shape[0], 2, -1)\n",
    "\n",
    "Y_train = pd.read_csv('../modulation-prediction/train_labels.csv').to_numpy()\n",
    "\n",
    "print(Y_train.shape)\n",
    "print(X_train.shape)"
   ]
  },
  {
   "cell_type": "code",
   "execution_count": null,
   "metadata": {},
   "outputs": [],
   "source": [
    "class_index = {\n",
    " 'FM': 0,\n",
    " 'OQPSK':1,\n",
    " 'BPSK':2,\n",
    " '8PSK':3,\n",
    " 'AM-SSB-SC':4,\n",
    " '4ASK':5,\n",
    " '16PSK':6,\n",
    " 'AM-DSB-SC':7, \n",
    " 'QPSK': 8, \n",
    " 'OOK':9,\n",
    "}\n",
    "index_class = {\n",
    " 0:'FM',\n",
    " 1:'OQPSK',\n",
    " 2:'BPSK',\n",
    " 3:'8PSK',\n",
    " 4:'AM-SSB-SC',\n",
    " 5:'4ASK',\n",
    " 6:'16PSK',\n",
    " 7:'AM-DSB-SC', \n",
    " 8:'QPSK', \n",
    " 9:'OOK',\n",
    "}\n",
    "\n",
    "classnum = 10\n",
    "def classToIndex(catg):\n",
    "    return class_index[catg]\n",
    "\n",
    "#direct mapping, not one-hot\n",
    "def setToNum(dataset):\n",
    "    tensor = np.zeros([dataset.shape[0],1])\n",
    "    for li, catg in enumerate(dataset[:,1]):\n",
    "        tensor[li] = classToIndex(catg)\n",
    "    return tensor\n",
    "# class to name\n",
    "def classToName(cls):\n",
    "    return index_class[cls]"
   ]
  },
  {
   "cell_type": "code",
   "execution_count": null,
   "metadata": {},
   "outputs": [],
   "source": [
    "Y_number = setToNum(Y_train)\n",
    "print(Y_number.shape)\n",
    "Y_train_onehot = to_categorical(Y_number)\n",
    "print(Y_train_onehot)"
   ]
  },
  {
   "cell_type": "code",
   "execution_count": null,
   "metadata": {},
   "outputs": [],
   "source": [
    "in_shp = [2,1024]\n",
    "classes = 10\n",
    "dr = 0.6 # dropout rate (%)\n",
    "model = models.Sequential()\n",
    "model.add(Reshape([1]+in_shp, input_shape=in_shp))\n",
    "model.add(ZeroPadding2D((0, 2), data_format=\"channels_first\"))\n",
    "model.add(Conv2D(kernel_initializer=\"glorot_uniform\", name=\"conv1\", activation=\"relu\", data_format=\"channels_first\", padding=\"valid\", filters=256, kernel_size=(1, 3)))\n",
    "model.add(Dropout(dr))\n",
    "\n",
    "model.add(ZeroPadding2D((0, 2), data_format=\"channels_first\"))\n",
    "model.add(Conv2D(kernel_initializer=\"glorot_uniform\", name=\"conv2\", activation=\"relu\", data_format=\"channels_first\", padding=\"valid\", filters=256, kernel_size=(2, 3)))\n",
    "model.add(Dropout(dr))\n",
    "\n",
    "model.add(ZeroPadding2D((0, 2), data_format=\"channels_first\"))\n",
    "model.add(Conv2D(kernel_initializer=\"glorot_uniform\", name=\"conv3\", activation=\"relu\", data_format=\"channels_first\", padding=\"valid\", filters=80, kernel_size=(1, 3)))\n",
    "model.add(Dropout(dr))\n",
    "\n",
    "model.add(ZeroPadding2D((0, 2), data_format=\"channels_first\"))\n",
    "model.add(Conv2D(kernel_initializer=\"glorot_uniform\", name=\"conv4\", activation=\"relu\", data_format=\"channels_first\", padding=\"valid\", filters=80, kernel_size=(1, 3)))\n",
    "model.add(Dropout(dr))\n",
    "model.add(ZeroPadding2D((0, 2), data_format=\"channels_first\"))\n",
    "\n",
    "model.add(Flatten())\n",
    "model.add(Reshape((1,-1)))\n",
    "model.add(keras.layers.LSTM(50))\n",
    "model.add(Dense(256, activation=\"relu\", name=\"dense1\", kernel_initializer=\"he_normal\"))\n",
    "model.add(Dropout(dr))\n",
    "model.add(Dense(classes, name=\"dense2\", kernel_initializer=\"he_normal\"))\n",
    "model.add(Activation('softmax'))\n",
    "model.add(Reshape([classes]))\n",
    "#opt=adam(lr=0.001, beta_1=0.9, beta_2=0.999, epsilon=1e-8)\n",
    "model.compile(loss='categorical_crossentropy', optimizer='adam')\n",
    "model.summary()"
   ]
  },
  {
   "cell_type": "code",
   "execution_count": null,
   "metadata": {},
   "outputs": [],
   "source": [
    "# Set up some params \n",
    "nb_epoch = 1000     # number of epochs to train on\n",
    "batch_size = 32  # training batch size\n",
    "\n",
    "filepath = '../modulation-prediction/'\n",
    "model.compile(loss=keras.losses.categorical_crossentropy,\n",
    "              optimizer=keras.optimizers.Adam(lr=0.001),\n",
    "              metrics=['accuracy'])\n",
    "history = model.fit(X_train,\n",
    "    Y_train_onehot,\n",
    "    batch_size=batch_size,\n",
    "    epochs=nb_epoch,\n",
    "    verbose=2)\n",
    "# we re-load the best weights once training is finished\n",
    "model.load_weights(filepath)"
   ]
  },
  {
   "cell_type": "code",
   "execution_count": null,
   "metadata": {},
   "outputs": [],
   "source": [
    "test_Y_hat = model.predict(X_test, batch_size=1024)\n",
    "# print(test_Y_hat)\n",
    "predictions = np.argmax(test_Y_hat, axis=1)\n",
    "print(predictions)\n",
    "\n",
    "predictionlist = predictions.tolist()\n",
    "names = []\n",
    "for line in predictionlist:\n",
    "    names.append(classToName(line))\n",
    "    \n",
    "outputs = np.asarray(names, dtype = str)\n",
    "categories = pd.DataFrame(outputs, columns = ['Category'])       \n",
    "categories.to_csv('categories.csv')"
   ]
  },
  {
   "cell_type": "code",
   "execution_count": null,
   "metadata": {},
   "outputs": [],
   "source": []
  }
 ],
 "metadata": {
  "kernelspec": {
   "display_name": "Python 3",
   "language": "python",
   "name": "python3"
  },
  "language_info": {
   "codemirror_mode": {
    "name": "ipython",
    "version": 3
   },
   "file_extension": ".py",
   "mimetype": "text/x-python",
   "name": "python",
   "nbconvert_exporter": "python",
   "pygments_lexer": "ipython3",
   "version": "3.6.5"
  }
 },
 "nbformat": 4,
 "nbformat_minor": 4
}
